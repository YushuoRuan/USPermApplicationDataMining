{
 "cells": [
  {
   "cell_type": "code",
   "execution_count": 2,
   "metadata": {},
   "outputs": [],
   "source": [
    "import pandas as pd\n",
    "import numpy as nd\n",
    "import sys\n",
    "import matplotlib.pylab as plt\n",
    "from typing import Dict, List, Any, Union\n",
    "import math"
   ]
  },
  {
   "cell_type": "code",
   "execution_count": 3,
   "metadata": {},
   "outputs": [
    {
     "name": "stderr",
     "output_type": "stream",
     "text": [
      "C:\\ProgramData\\Anaconda3\\lib\\site-packages\\IPython\\core\\interactiveshell.py:2785: DtypeWarning: Columns (16,122) have mixed types. Specify dtype option on import or set low_memory=False.\n",
      "  interactivity=interactivity, compiler=compiler, result=result)\n"
     ]
    }
   ],
   "source": [
    "data17 = pd.read_csv(\"PERM_2017.csv\")\n",
    "data18 = pd.read_csv(\"PERM_2018.csv\")"
   ]
  },
  {
   "cell_type": "code",
   "execution_count": 4,
   "metadata": {},
   "outputs": [],
   "source": [
    "#create job class to keep data\n",
    "class job:\n",
    "    jobCode = \"\"\n",
    "    numApp = 0\n",
    "    numCert = 0\n",
    "    certRate = 0.0\n",
    "\n",
    "    def __init__(self, name):\n",
    "        self.jobCode = name\n",
    "\n",
    "    def update(self, status):\n",
    "        if status != \"Withdrawn\":\n",
    "            self.numApp += 1;\n",
    "        if status == \"Certified\" or status == \"Certified-Expired\":\n",
    "            self.numCert += 1\n",
    "        if self.numApp!=0:\n",
    "            self.certRate = self.numCert/self.numApp"
   ]
  },
  {
   "cell_type": "code",
   "execution_count": 5,
   "metadata": {},
   "outputs": [],
   "source": [
    "#extract job code and case status\n",
    "jobStatus17 = data17[[\"PW_SOC_CODE\", \"CASE_STATUS\"]]\n",
    "jobStatus18 = data18[[\"PW_SOC_CODE\", \"CASE_STATUS\"]]\n",
    "jobStatus = pd.concat([jobStatus17, jobStatus18])"
   ]
  },
  {
   "cell_type": "code",
   "execution_count": 6,
   "metadata": {},
   "outputs": [],
   "source": [
    "s = []\n",
    "#loop the job status\n",
    "for i in range(0,len(jobStatus)):\n",
    "    jobN = jobStatus.iloc[i][0]\n",
    "    jobN=str(jobN)\n",
    "    #use only first 2 digits\n",
    "    jobN = jobN[:2]\n",
    "    status = jobStatus.iloc[i][1]\n",
    "    if type(jobN) != str:\n",
    "        continue\n",
    "    found = False\n",
    "    for j in range(0,len(s)):        \n",
    "        if s[j].jobCode == jobN:\n",
    "            found = True\n",
    "            s[j].update(status)\n",
    "            break\n",
    "    if found == False:\n",
    "        newJob = job(jobN)\n",
    "        s.append(newJob)          "
   ]
  },
  {
   "cell_type": "code",
   "execution_count": 9,
   "metadata": {
    "scrolled": true
   },
   "outputs": [
    {
     "name": "stdout",
     "output_type": "stream",
     "text": [
      "15 ,  116851\n",
      "17 ,  17696\n",
      "11 ,  15089\n",
      "13 ,  12742\n",
      "25 ,  7159\n",
      "51 ,  6509\n",
      "29 ,  5791\n",
      "35 ,  4393\n",
      "27 ,  3627\n",
      "41 ,  3267\n",
      "19 ,  2695\n",
      "43 ,  2679\n",
      "53 ,  2237\n",
      "37 ,  1933\n",
      "47 ,  1384\n",
      "39 ,  1166\n",
      "31 ,  1092\n",
      "45 ,  1021\n",
      "49 ,  866\n",
      "23 ,  746\n",
      "21 ,  646\n",
      "na ,  200\n",
      "33 ,  20\n"
     ]
    }
   ],
   "source": [
    "jobArray = []\n",
    "numArray = []\n",
    "import operator\n",
    "s.sort(key=operator.attrgetter('numApp'), reverse = True)\n",
    "for i in range(0,len(s)):\n",
    "    print(s[i].jobCode, \", \", s[i].numApp)\n",
    "    jobArray.append(s[i].jobCode)\n",
    "    numArray.append(s[i].numApp)"
   ]
  },
  {
   "cell_type": "code",
   "execution_count": 10,
   "metadata": {},
   "outputs": [],
   "source": [
    "array=list(numArray)"
   ]
  },
  {
   "cell_type": "code",
   "execution_count": 11,
   "metadata": {},
   "outputs": [
    {
     "data": {
      "text/plain": [
       "[116851,\n",
       " 17696,\n",
       " 15089,\n",
       " 12742,\n",
       " 7159,\n",
       " 6509,\n",
       " 5791,\n",
       " 4393,\n",
       " 3627,\n",
       " 3267,\n",
       " 2695,\n",
       " 2679,\n",
       " 2237,\n",
       " 1933,\n",
       " 1384,\n",
       " 1166,\n",
       " 1092,\n",
       " 1021,\n",
       " 866,\n",
       " 746,\n",
       " 646,\n",
       " 200,\n",
       " 20]"
      ]
     },
     "execution_count": 11,
     "metadata": {},
     "output_type": "execute_result"
    }
   ],
   "source": [
    "array"
   ]
  },
  {
   "cell_type": "raw",
   "metadata": {},
   "source": []
  },
  {
   "cell_type": "code",
   "execution_count": null,
   "metadata": {},
   "outputs": [],
   "source": []
  },
  {
   "cell_type": "code",
   "execution_count": 13,
   "metadata": {},
   "outputs": [
    {
     "data": {
      "image/png": "[encoded data removed]",
      "text/plain": [
       "<Figure size 504x360 with 1 Axes>"
      ]
     },
     "metadata": {},
     "output_type": "display_data"
    }
   ],
   "source": [
    "plt.figure(figsize=(7,5))\n",
    "plt.bar(jobArray, numArray)\n",
    "plt.xlabel(\"Occupations\")\n",
    "plt.ylabel(\"# of Applicants\")\n",
    "plt.savefig(\"./Applicants' job.pdf\")\n"
   ]
  },
  {
   "cell_type": "code",
   "execution_count": 17,
   "metadata": {},
   "outputs": [],
   "source": []
  },
  {
   "cell_type": "code",
   "execution_count": null,
   "metadata": {},
   "outputs": [],
   "source": []
  }
 ],
 "metadata": {
  "kernelspec": {
   "display_name": "Python 3",
   "language": "python",
   "name": "python3"
  },
  "language_info": {
   "codemirror_mode": {
    "name": "ipython",
    "version": 3
   },
   "file_extension": ".py",
   "mimetype": "text/x-python",
   "name": "python",
   "nbconvert_exporter": "python",
   "pygments_lexer": "ipython3",
   "version": "3.6.5"
  }
 },
 "nbformat": 4,
 "nbformat_minor": 2
}
