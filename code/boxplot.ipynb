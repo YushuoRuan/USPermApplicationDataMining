{
 "cells": [
  {
   "cell_type": "markdown",
   "metadata": {},
   "source": [
    "### Box plots - CSCI 5502"
   ]
  },
  {
   "cell_type": "code",
   "execution_count": 27,
   "metadata": {},
   "outputs": [],
   "source": [
    "library(tidyr)\n",
    "library(dplyr)\n",
    "library(varhandle)"
   ]
  },
  {
   "cell_type": "code",
   "execution_count": 31,
   "metadata": {
    "collapsed": true
   },
   "outputs": [],
   "source": [
    "us_visa<- read.csv('us_perm_visas.csv', header=TRUE)"
   ]
  },
  {
   "cell_type": "code",
   "execution_count": 32,
   "metadata": {
    "collapsed": true
   },
   "outputs": [],
   "source": [
    "#merge attributes\n",
    "us_visa$case_no<- paste(us_visa$case_no, us_visa$case_number)\n",
    "mydata<- select(us_visa, -case_number)\n",
    "\n",
    "mydata$country_of_citizenship<- paste(mydata$country_of_citizenship, mydata$country_of_citzenship)\n",
    "US_visa<- select(mydata, -country_of_citzenship)"
   ]
  },
  {
   "cell_type": "code",
   "execution_count": 33,
   "metadata": {},
   "outputs": [
    {
     "data": {
      "text/plain": [
       "\n",
       "                 bi Bi-Weekly      Hour        hr     Month       mth      Week \n",
       "   115516         9         3      1215       781        14        21        23 \n",
       "       wk      Year        yr \n",
       "       30     68188     19733 "
      ]
     },
     "metadata": {},
     "output_type": "display_data"
    }
   ],
   "source": [
    "wage<- US_visa$wage_offer_from_9089\n",
    "table(US_visa$wage_offer_unit_of_pay_9089)\n",
    "#separate into groups: hour, week, biweekly, month, year\n",
    "#the wage per hour\n",
    "sub_Hour<- subset(US_visa, wage_offer_unit_of_pay_9089 == \"Hour\")\n",
    "sub_Hr<- subset(US_visa, wage_offer_unit_of_pay_9089 == \"hr\")\n",
    "sub_hr<- rbind(sub_Hr, sub_Hour)\n",
    "#the wage per week\n",
    "sub_Week<- subset(US_visa, wage_offer_unit_of_pay_9089 == \"Week\")\n",
    "sub_Wk<- subset(US_visa, wage_offer_unit_of_pay_9089 == \"wk\")\n",
    "sub_wk<- rbind(sub_Week, sub_Wk)\n",
    "#the wage biweekly\n",
    "sub_Bi<- subset(US_visa, wage_offer_unit_of_pay_9089 == \"bi\")\n",
    "sub_Bi_weekly<- subset(US_visa, wage_offer_unit_of_pay_9089 == \"Bi-Weekly\")\n",
    "sub_bi<- rbind(sub_Bi, sub_Bi_weekly)\n",
    "#the wage per month\n",
    "sub_Month<- subset(US_visa, wage_offer_unit_of_pay_9089 == \"Month\")\n",
    "sub_month<- subset(US_visa, wage_offer_unit_of_pay_9089 == \"mth\")\n",
    "sub_mth<- rbind(sub_Month, sub_month)\n",
    "#the wage per year\n",
    "sub_Year<- subset(US_visa, wage_offer_unit_of_pay_9089 == \"Year\")\n",
    "sub_year<- subset(US_visa, wage_offer_unit_of_pay_9089 == \"yr\")\n",
    "sub_yr<- rbind(sub_Year, sub_year)"
   ]
  },
  {
   "cell_type": "code",
   "execution_count": 35,
   "metadata": {},
   "outputs": [
    {
     "name": "stderr",
     "output_type": "stream",
     "text": [
      "Warning message in eval(expr, envir, enclos):\n",
      "\"NAs introduced by coercion\"Warning message in eval(expr, envir, enclos):\n",
      "\"NAs introduced by coercion\"Warning message in eval(expr, envir, enclos):\n",
      "\"NAs introduced by coercion\"Warning message in eval(expr, envir, enclos):\n",
      "\"NAs introduced by coercion\""
     ]
    },
    {
     "data": {
      "image/png": "[encoded data removed]",
      "text/plain": [
       "Plot with title \"Wage per Year\""
      ]
     },
     "metadata": {},
     "output_type": "display_data"
    },
    {
     "data": {
      "image/png": "[encoded data removed]",
      "text/plain": [
       "Plot with title \"Wage biweekly\""
      ]
     },
     "metadata": {},
     "output_type": "display_data"
    }
   ],
   "source": [
    "case_status<- sub_hr$case_status\n",
    "#table(case_status)\n",
    "sub_hr$dummy[sub_hr$case_status==\"Certified\"]<- \"1\"\n",
    "sub_hr$dummy[sub_hr$case_status==\"Certified-Expired\"]<- \"2\"\n",
    "sub_hr$dummy[sub_hr$case_status==\"Denied\"]<- \"3\"\n",
    "sub_hr$dummy[sub_hr$case_status==\"Withdrawn\"]<- \"4\"\n",
    "sub_hr$dummy<- factor(sub_hr$dummy)\n",
    "\n",
    "sub_wk$dummy[sub_wk$case_status==\"Certified\"]<- \"1\"\n",
    "sub_wk$dummy[sub_wk$case_status==\"Certified-Expired\"]<- \"2\"\n",
    "sub_wk$dummy[sub_wk$case_status==\"Denied\"]<- \"3\"\n",
    "sub_wk$dummy[sub_wk$case_status==\"Withdrawn\"]<- \"4\"\n",
    "sub_wk$dummy<- factor(sub_wk$dummy)\n",
    "\n",
    "sub_bi$dummy[sub_bi$case_status==\"Certified\"]<- \"1\"\n",
    "sub_bi$dummy[sub_bi$case_status==\"Denied\"]<- \"3\"\n",
    "sub_bi$dummy<- factor(sub_bi$dummy)\n",
    "\n",
    "sub_mth$dummy[sub_mth$case_status==\"Certified\"]<- \"1\"\n",
    "sub_mth$dummy[sub_mth$case_status==\"Certified-Expired\"]<- \"2\"\n",
    "sub_mth$dummy[sub_mth$case_status==\"Denied\"]<- \"3\"\n",
    "sub_mth$dummy<- factor(sub_mth$dummy)\n",
    "\n",
    "sub_yr$dummy[sub_yr$case_status==\"Certified\"]<- \"1\"\n",
    "sub_yr$dummy[sub_yr$case_status==\"Certified-Expired\"]<- \"2\"\n",
    "sub_yr$dummy[sub_yr$case_status==\"Denied\"]<- \"3\"\n",
    "sub_yr$dummy[sub_yr$case_status==\"Withdrawn\"]<- \"4\"\n",
    "sub_yr$dummy<- factor(sub_yr$dummy)\n",
    "\n",
    "wage_offer_hour<- as.numeric(paste(sub_hr$wage_offer_from_9089))\n",
    "wage_offer_week<- as.numeric(paste(sub_wk$wage_offer_from_9089))\n",
    "wage_offer_biweek<- as.numeric(paste(sub_bi$wage_offer_from_9089))\n",
    "wage_offer_month<- as.numeric(paste(sub_mth$wage_offer_from_9089))\n",
    "wage_offer_year<- as.numeric(paste(sub_yr$wage_offer_from_9089))\n",
    "\n",
    "\n",
    "par(mfrow=c(2,2))\n",
    "boxplot(wage_offer_hour ~ sub_hr$dummy, las=2, ylim=c(0,100),\n",
    "       names = c(\"Certified\",\"C-Expired\",\"Denied\",\"Withdrawn\"),\n",
    "       ylab=\"Wage offered per hour\", col=\"cadetblue2\", main=\"Wage per Hour\")\n",
    "boxplot(wage_offer_week ~ sub_wk$dummy, las=2, ylim=c(100,5000),\n",
    "       names = c(\"Certified\",\"C-Expired\",\"Denied\",\"Withdrawn\"),\n",
    "       ylab=\"Wage offered per week\", col=\"aquamarine3\", main=\"Wage per Week\")\n",
    "boxplot(wage_offer_month ~ sub_mth$dummy, las=2, ylim=c(1000,10000),\n",
    "       names = c(\"Certified\",\"C-Expired\",\"Denied\"),\n",
    "       ylab=\"Wage offered per month\", col=\"khaki1\", main=\"Wage per Month\")\n",
    "boxplot(wage_offer_year ~ sub_yr$dummy, las=2, ylim=c(10000, 250000),\n",
    "       names = c(\"Certified\",\"C-Expired\",\"Denied\",\"Withdrawn\"),\n",
    "       ylab=\"Wage offered per year\", col=\"orange\", main=\"Wage per Year\")\n",
    "boxplot(wage_offer_biweek ~ sub_bi$dummy, ylim=c(500,2500),\n",
    "       names = c(\"Certified\",\"Denied\"), col=\"red\",\n",
    "       ylab=\"Wage offered bi-weekly\", main=\"Wage biweekly\")"
   ]
  },
  {
   "cell_type": "markdown",
   "metadata": {},
   "source": [
    "**Let each group be consistent: \"Wage per month x 12\", \"Wage biweekly x 26\", \"Wage per week x 52\", \"Wage per hour x 40 x 52\"**"
   ]
  },
  {
   "cell_type": "code",
   "execution_count": 7,
   "metadata": {
    "collapsed": true
   },
   "outputs": [],
   "source": [
    "perm_2012<- read.csv('PERM_2012.csv', header=TRUE)\n",
    "perm_2013<- read.csv('PERM_2013.csv', header=TRUE)\n",
    "perm_2014<- read.csv('PERM_2014.csv', header=TRUE)\n",
    "perm_2015<- read.csv('PERM_2015.csv', header=TRUE)\n",
    "perm_2016<- read.csv('PERM_2016.csv', header=TRUE)"
   ]
  },
  {
   "cell_type": "code",
   "execution_count": 8,
   "metadata": {
    "collapsed": true
   },
   "outputs": [],
   "source": [
    "perm_2017<- read.csv('PERM_2017.csv', header=TRUE)\n",
    "perm_2018<- read.csv('PERM_2018.csv', header=TRUE)"
   ]
  },
  {
   "cell_type": "code",
   "execution_count": 8,
   "metadata": {},
   "outputs": [
    {
     "data": {
      "text/plain": [
       "\n",
       "         bi    hr   mth    wk    yr \n",
       " 3045    12  1893    61    63 61414 "
      ]
     },
     "metadata": {},
     "output_type": "display_data"
    },
    {
     "data": {
      "text/plain": [
       "\n",
       "        Certified Certified-Expired            Denied         Withdrawn \n",
       "                2             54579              8642              3265 "
      ]
     },
     "metadata": {},
     "output_type": "display_data"
    },
    {
     "data": {
      "text/plain": [
       "\n",
       "       Hour Month  Week  Year \n",
       "    1   385    12    16 19372 "
      ]
     },
     "metadata": {},
     "output_type": "display_data"
    },
    {
     "data": {
      "text/plain": [
       "\n",
       "        Certified Certified-Expired \n",
       "             3051             16735 "
      ]
     },
     "metadata": {},
     "output_type": "display_data"
    },
    {
     "data": {
      "text/plain": [
       "\n",
       "                  A-3      A1/A2        B-1        B-2        C-1        E-1 \n",
       "       997          2          5         25        153          5         32 \n",
       "       E-2        E-3        EWI        F-1        F-2        G-4        G-5 \n",
       "       149         33        174        482         38          5          6 \n",
       "      H-1A       H-1B      H-1B1       H-2A       H-2B        H-3        H-4 \n",
       "         4      16095         40          3         10          1         42 \n",
       "       H1B          I        J-1        J-2        L-1        L-2          N \n",
       "         1          4         33          2        729         18          1 \n",
       "Not in USA        O-1        O-2        O-3        P-1    Parolee        R-1 \n",
       "       116         31          2          1          7        376          1 \n",
       "       T-1         TN        TPS        VWB        VWT \n",
       "         1        149          9          1          3 "
      ]
     },
     "metadata": {},
     "output_type": "display_data"
    },
    {
     "data": {
      "text/plain": [
       "\n",
       "       Hour Month  Week  Year \n",
       "    1   385    12    16 19372 "
      ]
     },
     "metadata": {},
     "output_type": "display_data"
    },
    {
     "data": {
      "text/plain": [
       "\n",
       "        Certified Certified-Expired \n",
       "             3051             16735 "
      ]
     },
     "metadata": {},
     "output_type": "display_data"
    }
   ],
   "source": [
    "table(perm_2012$WAGE_OFFER_UNIT_OF_PAY_9089)\n",
    "table(perm_2012$CASE_STATUS)\n",
    "\n",
    "table(perm_2013$PW_Unit_of_Pay_9089)\n",
    "table(perm_2013$CASE_STATUS)\n",
    "table(perm_2013$Class_of_Admission)\n",
    "\n",
    "table(perm_2013$PW_Unit_of_Pay_9089)\n",
    "table(perm_2013$CASE_STATUS)"
   ]
  },
  {
   "cell_type": "code",
   "execution_count": 74,
   "metadata": {},
   "outputs": [
    {
     "data": {
      "text/plain": [
       "unit_2017\n",
       "          Bi-Weekly      Hour     Month      Week      Year \n",
       "       19         9      3470        36        68     94001 "
      ]
     },
     "metadata": {},
     "output_type": "display_data"
    },
    {
     "data": {
      "text/plain": [
       "\n",
       "        Certified Certified-Expired            Denied         Withdrawn \n",
       "            42080             45529              6413              3581 "
      ]
     },
     "metadata": {},
     "output_type": "display_data"
    },
    {
     "name": "stderr",
     "output_type": "stream",
     "text": [
      "Warning message in eval(expr, envir, enclos):\n",
      "\"NAs introduced by coercion\""
     ]
    },
    {
     "data": {
      "text/html": [
       "<ol class=list-inline>\n",
       "\t<li>119683</li>\n",
       "\t<li>89200</li>\n",
       "\t<li>18803</li>\n",
       "\t<li>85910</li>\n",
       "\t<li>75000</li>\n",
       "</ol>\n"
      ],
      "text/latex": [
       "\\begin{enumerate*}\n",
       "\\item 119683\n",
       "\\item 89200\n",
       "\\item 18803\n",
       "\\item 85910\n",
       "\\item 75000\n",
       "\\end{enumerate*}\n"
      ],
      "text/markdown": [
       "1. 119683\n",
       "2. 89200\n",
       "3. 18803\n",
       "4. 85910\n",
       "5. 75000\n",
       "\n",
       "\n"
      ],
      "text/plain": [
       "[1] 119683  89200  18803  85910  75000"
      ]
     },
     "metadata": {},
     "output_type": "display_data"
    },
    {
     "name": "stderr",
     "output_type": "stream",
     "text": [
      "Warning message in perm_2017$yearly_wage[unit_2017 == \"Month\"] <- wage_2017 * 12:\n",
      "\"number of items to replace is not a multiple of replacement length\"Warning message in perm_2017$yearly_wage[unit_2017 == \"Bi-Weekly\"] <- wage_2017 * :\n",
      "\"number of items to replace is not a multiple of replacement length\"Warning message in perm_2017$yearly_wage[unit_2017 == \"Week\"] <- wage_2017 * 52:\n",
      "\"number of items to replace is not a multiple of replacement length\"Warning message in perm_2017$yearly_wage[unit_2017 == \"Hour\"] <- wage_2017 * 40 * :\n",
      "\"number of items to replace is not a multiple of replacement length\"Warning message in perm_2017$yearly_wage[unit_2017 == \"Year\"] <- wage_2017:\n",
      "\"number of items to replace is not a multiple of replacement length\"Warning message in perm_2017$yearly_wage[unit_2017 == \"\"] <- wage_2017:\n",
      "\"number of items to replace is not a multiple of replacement length\""
     ]
    }
   ],
   "source": [
    "#consider the year of 2017\n",
    "#perm_2017<- perm_2017[!(is.na(perm_2017$WAGE_OFFER_FROM_9089) | perm_2017$WAGE_OFFER_FROM_9089==\"\"), ]\n",
    "unit_2017<- perm_2017$WAGE_OFFER_UNIT_OF_PAY_9089\n",
    "table(unit_2017)\n",
    "table(perm_2017$CASE_STATUS)\n",
    "\n",
    "perm_2017$WAGE_OFFER_FROM_9089<- gsub(\"[,]\",\"\",perm_2017$WAGE_OFFER_FROM_9089)\n",
    "perm_2017$WAGE_OFFER_FROM_9089<- as.numeric(as.character(perm_2017$WAGE_OFFER_FROM_9089))\n",
    "perm_2017[1:5,34]\n",
    "\n",
    "wage_2017<- perm_2017$WAGE_OFFER_FROM_9089\n",
    "\n",
    "perm_2017$dummy[perm_2017$CASE_STATUS==\"Certified\"]<- \"1\"\n",
    "perm_2017$dummy[perm_2017$CASE_STATUS==\"Certified-Expired\"]<- \"2\"\n",
    "perm_2017$dummy[perm_2017$CASE_STATUS==\"Denied\"]<- \"3\"\n",
    "perm_2017$dummy[perm_2017$CASE_STATUS==\"Withdrawn\"]<- \"4\"\n",
    "perm_2017$dummy<- factor(perm_2017$dummy)\n",
    "\n",
    "perm_2017$yearly_wage[unit_2017==\"Month\"]<- wage_2017*12\n",
    "perm_2017$yearly_wage[unit_2017==\"Bi-Weekly\"]<- wage_2017*26\n",
    "perm_2017$yearly_wage[unit_2017==\"Week\"]<- wage_2017*52\n",
    "perm_2017$yearly_wage[unit_2017==\"Hour\"]<- wage_2017*40*52\n",
    "perm_2017$yearly_wage[unit_2017==\"Year\"]<- wage_2017\n",
    "perm_2017$yearly_wage[unit_2017==\"\"]<- wage_2017\n",
    "perm_2017$yearly_wage<- as.numeric(perm_2017$yearly_wage)\n",
    "\n",
    "write.csv(perm_2017,'perm_2017_new.csv')"
   ]
  },
  {
   "cell_type": "markdown",
   "metadata": {},
   "source": [
    "From the boxplot above, we can conclude that the wage may not affect the approval rate of H1B visa."
   ]
  },
  {
   "cell_type": "code",
   "execution_count": 14,
   "metadata": {},
   "outputs": [],
   "source": [
    "perm_2017<- read.csv('perm_2017_new.csv', header=TRUE)"
   ]
  },
  {
   "cell_type": "code",
   "execution_count": 15,
   "metadata": {},
   "outputs": [
    {
     "data": {
      "image/png": "[encoded data removed]",
      "text/plain": [
       "Plot with title \"Wage per Year for 2017\""
      ]
     },
     "metadata": {},
     "output_type": "display_data"
    }
   ],
   "source": [
    "boxplot(perm_2017$all.year ~ perm_2017$dummy, las=2, ylim=c(8000, 250000),\n",
    "       names = c(\"Certified\",\"C-Expired\",\"Denied\",\"Withdrawn\"),\n",
    "       ylab=\"Wage offered per year\", col=\"cadetblue\", main=\"Wage per Year for 2017\")"
   ]
  },
  {
   "cell_type": "code",
   "execution_count": 21,
   "metadata": {},
   "outputs": [
    {
     "data": {
      "text/plain": [
       "\n",
       "        Certified Certified-Expired            Denied         Withdrawn \n",
       "            41223             37715              5999              4362 "
      ]
     },
     "metadata": {},
     "output_type": "display_data"
    }
   ],
   "source": [
    "perm_2015<- read.csv('perm_2015(new).csv', header=TRUE)\n",
    "table(perm_2015$CASE_STATUS)"
   ]
  },
  {
   "cell_type": "code",
   "execution_count": 23,
   "metadata": {},
   "outputs": [
    {
     "data": {
      "image/png": "[encoded data removed]",
      "text/plain": [
       "Plot with title \"Wage per Year for 2015\""
      ]
     },
     "metadata": {},
     "output_type": "display_data"
    }
   ],
   "source": [
    "perm_2015$dummy[perm_2015$CASE_STATUS==\"Certified\"]<- \"1\"\n",
    "perm_2015$dummy[perm_2015$CASE_STATUS==\"Certified-Expired\"]<- \"2\"\n",
    "perm_2015$dummy[perm_2015$CASE_STATUS==\"Denied\"]<- \"3\"\n",
    "perm_2015$dummy[perm_2015$CASE_STATUS==\"Withdrawn\"]<- \"4\"\n",
    "perm_2015$dummy<- factor(perm_2015$dummy)\n",
    "\n",
    "boxplot(perm_2015$all.year ~ perm_2015$dummy, las=2, ylim=c(8000, 250000),\n",
    "       names = c(\"Certified\",\"C-Expired\",\"Denied\",\"Withdrawn\"),\n",
    "       ylab=\"Wage offered per year\", col=\"darksalmon\", main=\"Wage per Year for 2015\")"
   ]
  },
  {
   "cell_type": "code",
   "execution_count": 11,
   "metadata": {},
   "outputs": [
    {
     "data": {
      "text/plain": [
       "\n",
       "        Certified Certified-Expired            Denied         Withdrawn \n",
       "            58750             57183              5560              4650 "
      ]
     },
     "metadata": {},
     "output_type": "display_data"
    }
   ],
   "source": [
    "perm_2016<- read.csv('perm_2016(new).csv', header=TRUE)\n",
    "table(perm_2016$CASE_STATUS)"
   ]
  },
  {
   "cell_type": "code",
   "execution_count": 16,
   "metadata": {},
   "outputs": [
    {
     "data": {
      "image/png": "[encoded data removed]",
      "text/plain": [
       "Plot with title \"Wage per Year for 2016\""
      ]
     },
     "metadata": {},
     "output_type": "display_data"
    }
   ],
   "source": [
    "perm_2016$dummy[perm_2016$CASE_STATUS==\"Certified\"]<- \"1\"\n",
    "perm_2016$dummy[perm_2016$CASE_STATUS==\"Certified-Expired\"]<- \"2\"\n",
    "perm_2016$dummy[perm_2016$CASE_STATUS==\"Denied\"]<- \"3\"\n",
    "perm_2016$dummy[perm_2016$CASE_STATUS==\"Withdrawn\"]<- \"4\"\n",
    "perm_2016$dummy<- factor(perm_2016$dummy)\n",
    "\n",
    "boxplot(perm_2016$all.year ~ perm_2016$dummy, las=2, ylim=c(8000, 250000),\n",
    "       names = c(\"Certified\",\"C-Expired\",\"Denied\",\"Withdrawn\"),\n",
    "       ylab=\"Wage offered per year\", col=\"azure3\", main=\"Wage per Year for 2016\")"
   ]
  },
  {
   "cell_type": "code",
   "execution_count": 17,
   "metadata": {},
   "outputs": [
    {
     "data": {
      "text/plain": [
       "\n",
       "        Certified Certified-Expired            Denied         Withdrawn \n",
       "            72187             37363              6255              3971 "
      ]
     },
     "metadata": {},
     "output_type": "display_data"
    }
   ],
   "source": [
    "perm_2018<- read.csv('perm_2018(new).csv', header=TRUE)\n",
    "table(perm_2018$CASE_STATUS)"
   ]
  },
  {
   "cell_type": "code",
   "execution_count": 19,
   "metadata": {},
   "outputs": [
    {
     "data": {
      "image/png": "[encoded data removed]",
      "text/plain": [
       "Plot with title \"Wage per Year for 2018\""
      ]
     },
     "metadata": {},
     "output_type": "display_data"
    }
   ],
   "source": [
    "perm_2018$dummy[perm_2018$CASE_STATUS==\"Certified\"]<- \"1\"\n",
    "perm_2018$dummy[perm_2018$CASE_STATUS==\"Certified-Expired\"]<- \"2\"\n",
    "perm_2018$dummy[perm_2018$CASE_STATUS==\"Denied\"]<- \"3\"\n",
    "perm_2018$dummy[perm_2018$CASE_STATUS==\"Withdrawn\"]<- \"4\"\n",
    "perm_2018$dummy<- factor(perm_2018$dummy)\n",
    "\n",
    "boxplot(perm_2018$all.year ~ perm_2018$dummy, las=2, ylim=c(8000, 250000),\n",
    "       names = c(\"Certified\",\"C-Expired\",\"Denied\",\"Withdrawn\"),\n",
    "       ylab=\"Wage offered per year\", col=\"darkgoldenrod3\", main=\"Wage per Year for 2018\")"
   ]
  },
  {
   "cell_type": "code",
   "execution_count": 24,
   "metadata": {},
   "outputs": [
    {
     "data": {
      "image/png": "[encoded data removed]",
      "text/plain": [
       "Plot with title \"Wage per Year for 2018\""
      ]
     },
     "metadata": {},
     "output_type": "display_data"
    }
   ],
   "source": [
    "par(mfrow=c(2,2))\n",
    "boxplot(perm_2015$all.year ~ perm_2015$dummy, las=2, ylim=c(8000, 250000),\n",
    "       names = c(\"Certified\",\"C-Expired\",\"Denied\",\"Withdrawn\"),\n",
    "       ylab=\"Wage offered per year\", col=\"darksalmon\", main=\"Wage per Year for 2015\")\n",
    "boxplot(perm_2016$all.year ~ perm_2016$dummy, las=2, ylim=c(8000, 250000),\n",
    "       names = c(\"Certified\",\"C-Expired\",\"Denied\",\"Withdrawn\"),\n",
    "       ylab=\"Wage offered per year\", col=\"azure3\", main=\"Wage per Year for 2016\")\n",
    "boxplot(perm_2017$all.year ~ perm_2017$dummy, las=2, ylim=c(8000, 250000),\n",
    "       names = c(\"Certified\",\"C-Expired\",\"Denied\",\"Withdrawn\"),\n",
    "       ylab=\"Wage offered per year\", col=\"cadetblue\", main=\"Wage per Year for 2017\")\n",
    "boxplot(perm_2018$all.year ~ perm_2018$dummy, las=2, ylim=c(8000, 250000),\n",
    "       names = c(\"Certified\",\"C-Expired\",\"Denied\",\"Withdrawn\"),\n",
    "       ylab=\"Wage offered per year\", col=\"darkgoldenrod3\", main=\"Wage per Year for 2018\")"
   ]
  }
 ],
 "metadata": {
  "kernelspec": {
   "display_name": "R",
   "language": "R",
   "name": "ir"
  },
  "language_info": {
   "codemirror_mode": "r",
   "file_extension": ".r",
   "mimetype": "text/x-r-source",
   "name": "R",
   "pygments_lexer": "r",
   "version": "3.4.1"
  }
 },
 "nbformat": 4,
 "nbformat_minor": 2
}
