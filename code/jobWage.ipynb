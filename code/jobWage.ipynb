{
 "cells": [
  {
   "cell_type": "code",
   "execution_count": 1,
   "metadata": {},
   "outputs": [],
   "source": [
    "import pandas as pd\n",
    "import numpy as nd\n",
    "import sys\n",
    "import matplotlib.pylab as plt\n",
    "from typing import Dict, List, Any, Union\n",
    "import math"
   ]
  },
  {
   "cell_type": "code",
   "execution_count": 2,
   "metadata": {},
   "outputs": [
    {
     "name": "stderr",
     "output_type": "stream",
     "text": [
      "C:\\ProgramData\\Anaconda3\\lib\\site-packages\\IPython\\core\\interactiveshell.py:2785: DtypeWarning: Columns (16,122) have mixed types. Specify dtype option on import or set low_memory=False.\n",
      "  interactivity=interactivity, compiler=compiler, result=result)\n"
     ]
    }
   ],
   "source": [
    "data17 = pd.read_csv(\"PERM_2017.csv\")\n",
    "data18 = pd.read_csv(\"PERM_2018.csv\")"
   ]
  },
  {
   "cell_type": "code",
   "execution_count": 38,
   "metadata": {},
   "outputs": [
    {
     "name": "stderr",
     "output_type": "stream",
     "text": [
      "C:\\ProgramData\\Anaconda3\\lib\\site-packages\\ipykernel_launcher.py:1: FutureWarning: Sorting because non-concatenation axis is not aligned. A future version\n",
      "of pandas will change to not sort by default.\n",
      "\n",
      "To accept the future behavior, pass 'sort=True'.\n",
      "\n",
      "To retain the current behavior and silence the warning, pass sort=False\n",
      "\n",
      "  \"\"\"Entry point for launching an IPython kernel.\n"
     ]
    }
   ],
   "source": [
    "data = pd.concat([data17, data18])"
   ]
  },
  {
   "cell_type": "code",
   "execution_count": null,
   "metadata": {},
   "outputs": [],
   "source": []
  },
  {
   "cell_type": "code",
   "execution_count": 39,
   "metadata": {},
   "outputs": [],
   "source": [
    "#recalculate wage depend on pay unit\n",
    "data[\"WAGE_OFFER_UNIT_OF_PAY_9089\"] = data[\"WAGE_OFFER_UNIT_OF_PAY_9089\"].map({\"Hour\":2085,\"Week\":52,'Month':12,'Year':1})\n",
    "data[\"WAGE_OFFER_FROM_9089\"] = pd.to_numeric(data[\"WAGE_OFFER_FROM_9089\"].astype(str).str.replace(',',''), errors='coerce').fillna(0).astype(int)\n",
    "data[\"WAGE_OFFER_FROM_9089\"] = data.WAGE_OFFER_UNIT_OF_PAY_9089 * data.WAGE_OFFER_FROM_9089\n",
    "#use only first 2 digits of job code\n",
    "data[\"PW_SOC_CODE\"] = [elem[:2] for elem in list(map(str, list(data['PW_SOC_CODE'])))]\n"
   ]
  },
  {
   "cell_type": "code",
   "execution_count": 40,
   "metadata": {},
   "outputs": [
    {
     "data": {
      "text/plain": [
       "15    119902\n",
       "17     18245\n",
       "11     15701\n",
       "13     13204\n",
       "25      7429\n",
       "51      7052\n",
       "29      6028\n",
       "35      4690\n",
       "27      3766\n",
       "41      3386\n",
       "43      2855\n",
       "19      2789\n",
       "53      2655\n",
       "37      2158\n",
       "47      1456\n",
       "39      1235\n",
       "31      1162\n",
       "45      1081\n",
       "49       896\n",
       "23       786\n",
       "21       679\n",
       "na       202\n",
       "33        22\n",
       "Name: PW_SOC_CODE, dtype: int64"
      ]
     },
     "execution_count": 40,
     "metadata": {},
     "output_type": "execute_result"
    }
   ],
   "source": [
    "data[\"PW_SOC_CODE\"].value_counts()"
   ]
  },
  {
   "cell_type": "code",
   "execution_count": 41,
   "metadata": {},
   "outputs": [],
   "source": [
    "data=data.dropna(subset=[\"WAGE_OFFER_FROM_9089\"])"
   ]
  },
  {
   "cell_type": "code",
   "execution_count": 42,
   "metadata": {},
   "outputs": [
    {
     "data": {
      "text/plain": [
       "140000.0    2146\n",
       "120000.0    2056\n",
       "115000.0    1833\n",
       "110000.0    1790\n",
       "125000.0    1789\n",
       "87422.0     1765\n",
       "100942.0    1740\n",
       "100000.0    1720\n",
       "130000.0    1709\n",
       "20850.0     1610\n",
       "150000.0    1588\n",
       "113000.0    1557\n",
       "90000.0     1549\n",
       "18765.0     1468\n",
       "105000.0    1424\n",
       "95000.0     1417\n",
       "16680.0     1405\n",
       "135000.0    1212\n",
       "99382.0     1142\n",
       "72946.0     1113\n",
       "85000.0     1097\n",
       "80000.0     1086\n",
       "160000.0     911\n",
       "145000.0     896\n",
       "75878.0      891\n",
       "75000.0      823\n",
       "90646.0      718\n",
       "106954.0     693\n",
       "111405.0     683\n",
       "70000.0      665\n",
       "            ... \n",
       "116058.0       1\n",
       "116055.0       1\n",
       "116050.0       1\n",
       "83279.0        1\n",
       "58023.0        1\n",
       "83277.0        1\n",
       "63650.0        1\n",
       "164600.0       1\n",
       "90604.0        1\n",
       "116040.0       1\n",
       "166543.0       1\n",
       "83271.0        1\n",
       "333082.0       1\n",
       "166525.0       1\n",
       "83259.0        1\n",
       "116023.0       1\n",
       "83252.0        1\n",
       "83250.0        1\n",
       "83246.0        1\n",
       "83245.0        1\n",
       "83244.0        1\n",
       "83239.0        1\n",
       "18440.0        1\n",
       "25650.0        1\n",
       "83231.0        1\n",
       "115995.0       1\n",
       "83226.0        1\n",
       "115992.0       1\n",
       "57995.0        1\n",
       "161905.0       1\n",
       "Name: WAGE_OFFER_FROM_9089, Length: 24076, dtype: int64"
      ]
     },
     "execution_count": 42,
     "metadata": {},
     "output_type": "execute_result"
    }
   ],
   "source": [
    "data[\"WAGE_OFFER_FROM_9089\"].value_counts()"
   ]
  },
  {
   "cell_type": "code",
   "execution_count": 43,
   "metadata": {},
   "outputs": [],
   "source": [
    "job = data.groupby(\"PW_SOC_CODE\")['WAGE_OFFER_FROM_9089'].mean()"
   ]
  },
  {
   "cell_type": "code",
   "execution_count": 102,
   "metadata": {},
   "outputs": [
    {
     "data": {
      "image/png": "[encoded data removed]",
      "text/plain": [
       "<Figure size 504x360 with 1 Axes>"
      ]
     },
     "metadata": {},
     "output_type": "display_data"
    }
   ],
   "source": [
    "job=job.sort_values(ascending=False)\n",
    "job.plot(kind='bar', title=\"Job Wage\", figsize=(7,5)).get_figure().savefig(\"jobwage.pdf\")"
   ]
  },
  {
   "cell_type": "code",
   "execution_count": 80,
   "metadata": {},
   "outputs": [],
   "source": [
    "wagea=list(job)"
   ]
  },
  {
   "cell_type": "code",
   "execution_count": 84,
   "metadata": {},
   "outputs": [
    {
     "data": {
      "text/plain": [
       "PW_SOC_CODE\n",
       "29    176199.255474\n",
       "23    137494.764631\n",
       "11    131007.544817\n",
       "47    124176.130495\n",
       "15    116825.742116\n",
       "17    109562.062592\n",
       "25     96263.948828\n",
       "41     92712.264480\n",
       "13     91241.238997\n",
       "19     82141.087487\n",
       "31     74361.344234\n",
       "27     68757.361680\n",
       "na     47755.926966\n",
       "33     45973.772727\n",
       "49     45788.785714\n",
       "21     39950.397644\n",
       "43     36830.153819\n",
       "35     31208.674071\n",
       "51     30225.046370\n",
       "53     27473.362095\n",
       "39     26965.086780\n",
       "37     24014.994432\n",
       "45     23678.072289\n",
       "Name: WAGE_OFFER_FROM_9089, dtype: float64"
      ]
     },
     "execution_count": 84,
     "metadata": {},
     "output_type": "execute_result"
    }
   ],
   "source": [
    "job"
   ]
  },
  {
   "cell_type": "code",
   "execution_count": 93,
   "metadata": {},
   "outputs": [],
   "source": [
    "numa=[\n",
    "5791,\n",
    "746,\n",
    "15089,\n",
    "1384,\n",
    "11851,\n",
    "17696,\n",
    "7159,\n",
    "3267, \n",
    "12742,\n",
    "2695,\n",
    "1092,\n",
    "3627,\n",
    "200,\n",
    "20,\n",
    "866,\n",
    "646,\n",
    "2679,\n",
    "4393,\n",
    "6509,\n",
    "2237,\n",
    "1166,\n",
    "1933,\n",
    "1021,\n",
    "]"
   ]
  },
  {
   "cell_type": "code",
   "execution_count": 100,
   "metadata": {},
   "outputs": [
    {
     "data": {
      "image/png": "[encoded data removed]",
      "text/plain": [
       "<Figure size 432x288 with 1 Axes>"
      ]
     },
     "metadata": {},
     "output_type": "display_data"
    }
   ],
   "source": [
    "plt.scatter(wagea,numa)\n",
    "plt.xlabel(\"Wage Average\")\n",
    "plt.ylabel(\"# of Applicants\")\n",
    "plt.title(\"17-18 job wage vs. applicants\")\n",
    "plt.savefig(\"./Applicants' job wagenumber.pdf\")"
   ]
  },
  {
   "cell_type": "code",
   "execution_count": 98,
   "metadata": {},
   "outputs": [],
   "source": [
    "correlation_coefficient = nd.corrcoef(wagea, numa)[0,1]"
   ]
  },
  {
   "cell_type": "code",
   "execution_count": 99,
   "metadata": {},
   "outputs": [
    {
     "name": "stdout",
     "output_type": "stream",
     "text": [
      "0.47155312915056213\n"
     ]
    }
   ],
   "source": [
    "print(correlation_coefficient)"
   ]
  },
  {
   "cell_type": "code",
   "execution_count": null,
   "metadata": {},
   "outputs": [],
   "source": []
  }
 ],
 "metadata": {
  "kernelspec": {
   "display_name": "Python 3",
   "language": "python",
   "name": "python3"
  },
  "language_info": {
   "codemirror_mode": {
    "name": "ipython",
    "version": 3
   },
   "file_extension": ".py",
   "mimetype": "text/x-python",
   "name": "python",
   "nbconvert_exporter": "python",
   "pygments_lexer": "ipython3",
   "version": "3.6.5"
  }
 },
 "nbformat": 4,
 "nbformat_minor": 2
}
